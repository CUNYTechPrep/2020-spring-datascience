{
 "cells": [
  {
   "cell_type": "markdown",
   "metadata": {},
   "source": [
    "# SQL \n",
    "\n",
    "The goal is to learn how to connect to a SQL database through Python interface. The SQL dialect of choice for this lesson is Sqlite."
   ]
  },
  {
   "cell_type": "code",
   "execution_count": 1,
   "metadata": {},
   "outputs": [
    {
     "name": "stdout",
     "output_type": "stream",
     "text": [
      "/Users/carlostavarez/opt/anaconda3/bin/sqlite3\n"
     ]
    }
   ],
   "source": [
    "! which sqlite3"
   ]
  },
  {
   "cell_type": "code",
   "execution_count": 2,
   "metadata": {},
   "outputs": [],
   "source": [
    "# install sqlalchemy with conda\n",
    "import sys"
   ]
  },
  {
   "cell_type": "markdown",
   "metadata": {},
   "source": [
    "## Connect to a Database\n",
    "\n",
    "To access SQL database in Python we will use the [SQLAlchemy](https://docs.sqlalchemy.org/en/13/intro.html) library. SQLAlchemy also works with MySQL and PostgreSQL. The argument `create_engine` specifies the SQL dialect and the pool to be used. Here, our dialect is Sqlite and our pool is *class_db*. More information about `create_engine` is found [here](https://docs.sqlalchemy.org/en/13/core/engines.html#sqlite). The `inspect` element let us see the configuration and construction of in-memory objects."
   ]
  },
  {
   "cell_type": "code",
   "execution_count": 3,
   "metadata": {},
   "outputs": [
    {
     "name": "stdout",
     "output_type": "stream",
     "text": [
      "Requirement already satisfied: sqlalchemy in /Users/carlostavarez/opt/anaconda3/lib/python3.7/site-packages (1.3.9)\n"
     ]
    }
   ],
   "source": [
    "# install SQLAlchemt using pip\n",
    "!pip install sqlalchemy"
   ]
  },
  {
   "cell_type": "code",
   "execution_count": 4,
   "metadata": {},
   "outputs": [],
   "source": [
    "import sqlalchemy\n",
    "from sqlalchemy import create_engine\n",
    "from sqlalchemy import inspect"
   ]
  },
  {
   "cell_type": "markdown",
   "metadata": {},
   "source": [
    "### On Disk\n",
    "\n",
    "To save the database on disk you just need to change the pool from *in-memory* to the relative working directory."
   ]
  },
  {
   "cell_type": "code",
   "execution_count": 5,
   "metadata": {},
   "outputs": [
    {
     "name": "stdout",
     "output_type": "stream",
     "text": [
      "\n",
      " Engine(sqlite:///class_db)\n"
     ]
    }
   ],
   "source": [
    "# The database will be saved to disk\n",
    "db_name_disk = 'sqlite:///class_db'\n",
    "\n",
    "\n",
    "# create an enginer\n",
    "engine_disk = create_engine(db_name_disk, echo=True)\n",
    "\n",
    "\n",
    "# print('\\n', sqlalchemy.__version__, '\\n')\n",
    "print('\\n', engine_disk)"
   ]
  },
  {
   "cell_type": "markdown",
   "metadata": {},
   "source": [
    "## Create a Table\n",
    "\n",
    "### On Disk\n",
    "\n",
    "To create a table we will pass the statement of create table with the description of each column. Here our table is named `students`, which contains the name, college, year, and group project number of each student in the class."
   ]
  },
  {
   "cell_type": "code",
   "execution_count": 6,
   "metadata": {},
   "outputs": [
    {
     "name": "stdout",
     "output_type": "stream",
     "text": [
      "2020-03-09 10:42:41,730 INFO sqlalchemy.engine.base.Engine SELECT CAST('test plain returns' AS VARCHAR(60)) AS anon_1\n",
      "2020-03-09 10:42:41,731 INFO sqlalchemy.engine.base.Engine ()\n",
      "2020-03-09 10:42:41,732 INFO sqlalchemy.engine.base.Engine SELECT CAST('test unicode returns' AS VARCHAR(60)) AS anon_1\n",
      "2020-03-09 10:42:41,732 INFO sqlalchemy.engine.base.Engine ()\n",
      "2020-03-09 10:42:41,733 INFO sqlalchemy.engine.base.Engine drop table if exists students\n",
      "2020-03-09 10:42:41,733 INFO sqlalchemy.engine.base.Engine ()\n",
      "2020-03-09 10:42:41,734 INFO sqlalchemy.engine.base.Engine COMMIT\n",
      "2020-03-09 10:42:41,735 INFO sqlalchemy.engine.base.Engine create table students(\n",
      "    id integer primary key,\n",
      "    name text not null,\n",
      "    college text not null,\n",
      "    year text not null,\n",
      "    group_project integer not null\n",
      ");\n",
      "\n",
      "2020-03-09 10:42:41,736 INFO sqlalchemy.engine.base.Engine ()\n",
      "2020-03-09 10:42:41,737 INFO sqlalchemy.engine.base.Engine COMMIT\n"
     ]
    },
    {
     "data": {
      "text/plain": [
       "<sqlalchemy.engine.result.ResultProxy at 0x7fd1183fbf50>"
      ]
     },
     "execution_count": 6,
     "metadata": {},
     "output_type": "execute_result"
    }
   ],
   "source": [
    "# drop table if table already exists\n",
    "drop_table_statement = \"\"\"drop table if exists students\"\"\"\n",
    "engine_disk.execute(drop_table_statement)\n",
    "\n",
    "# sql statement\n",
    "create_table_statement = \"\"\"create table students(\n",
    "    id integer primary key,\n",
    "    name text not null,\n",
    "    college text not null,\n",
    "    year text not null,\n",
    "    group_project integer not null\n",
    ");\n",
    "\"\"\"\n",
    "\n",
    "engine_disk.execute(create_table_statement)"
   ]
  },
  {
   "cell_type": "markdown",
   "metadata": {},
   "source": [
    "## Inspecting the Database and tables\n",
    "\n"
   ]
  },
  {
   "cell_type": "code",
   "execution_count": 7,
   "metadata": {},
   "outputs": [
    {
     "name": "stdout",
     "output_type": "stream",
     "text": [
      "2020-03-09 10:42:41,747 INFO sqlalchemy.engine.base.Engine SELECT name FROM sqlite_master WHERE type='table' ORDER BY name\n",
      "2020-03-09 10:42:41,747 INFO sqlalchemy.engine.base.Engine ()\n"
     ]
    },
    {
     "data": {
      "text/plain": [
       "['students']"
      ]
     },
     "execution_count": 7,
     "metadata": {},
     "output_type": "execute_result"
    }
   ],
   "source": [
    "# get the names of all tables in the database\n",
    "engine_disk.table_names()"
   ]
  },
  {
   "cell_type": "code",
   "execution_count": 8,
   "metadata": {},
   "outputs": [
    {
     "name": "stdout",
     "output_type": "stream",
     "text": [
      "2020-03-09 10:42:41,756 INFO sqlalchemy.engine.base.Engine SELECT name FROM sqlite_master WHERE type='table' ORDER BY name\n",
      "2020-03-09 10:42:41,756 INFO sqlalchemy.engine.base.Engine ()\n"
     ]
    },
    {
     "data": {
      "text/plain": [
       "['students']"
      ]
     },
     "execution_count": 8,
     "metadata": {},
     "output_type": "execute_result"
    }
   ],
   "source": [
    "# inspect the database\n",
    "inspect(engine_disk).get_table_names()"
   ]
  },
  {
   "cell_type": "code",
   "execution_count": 9,
   "metadata": {},
   "outputs": [
    {
     "name": "stdout",
     "output_type": "stream",
     "text": [
      "2020-03-09 10:42:41,764 INFO sqlalchemy.engine.base.Engine PRAGMA main.table_info(\"students\")\n",
      "2020-03-09 10:42:41,765 INFO sqlalchemy.engine.base.Engine ()\n",
      "{'name': 'id', 'type': INTEGER(), 'nullable': True, 'default': None, 'autoincrement': 'auto', 'primary_key': 1}\n",
      "{'name': 'name', 'type': TEXT(), 'nullable': False, 'default': None, 'autoincrement': 'auto', 'primary_key': 0}\n",
      "{'name': 'college', 'type': TEXT(), 'nullable': False, 'default': None, 'autoincrement': 'auto', 'primary_key': 0}\n",
      "{'name': 'year', 'type': TEXT(), 'nullable': False, 'default': None, 'autoincrement': 'auto', 'primary_key': 0}\n",
      "{'name': 'group_project', 'type': INTEGER(), 'nullable': False, 'default': None, 'autoincrement': 'auto', 'primary_key': 0}\n"
     ]
    }
   ],
   "source": [
    "# get column information\n",
    "\n",
    "for col in inspect(engine_disk).get_columns('students'):\n",
    "    print(col)"
   ]
  },
  {
   "cell_type": "markdown",
   "metadata": {},
   "source": [
    "### Feeding Data to Database\n",
    "\n",
    "#### From a list of tuples\n",
    "\n",
    "To feed data into the database we can iterate over an array of tuples where the value of each element inside of the tuple agrees to the condtions specified to each column of such table. For example, the code below inserts the information of the Intro to Data Science from the Star Wars characters class."
   ]
  },
  {
   "cell_type": "code",
   "execution_count": 10,
   "metadata": {},
   "outputs": [
    {
     "name": "stdout",
     "output_type": "stream",
     "text": [
      "\n",
      " inserting Han Solo\n",
      "2020-03-09 10:42:41,774 INFO sqlalchemy.engine.base.Engine \n",
      "insert into students (name, college, year, group_project)\n",
      "    values(?, ?, ?, ?)\n",
      "\n",
      "2020-03-09 10:42:41,774 INFO sqlalchemy.engine.base.Engine ('Han Solo', 'ccny', 'junior', 1)\n",
      "2020-03-09 10:42:41,775 INFO sqlalchemy.engine.base.Engine COMMIT\n",
      "\n",
      " inserting Darth Vader\n",
      "2020-03-09 10:42:41,777 INFO sqlalchemy.engine.base.Engine \n",
      "insert into students (name, college, year, group_project)\n",
      "    values(?, ?, ?, ?)\n",
      "\n",
      "2020-03-09 10:42:41,777 INFO sqlalchemy.engine.base.Engine ('Darth Vader', 'bcny', 'senior', 2)\n",
      "2020-03-09 10:42:41,778 INFO sqlalchemy.engine.base.Engine COMMIT\n",
      "\n",
      " inserting Yoda\n",
      "2020-03-09 10:42:41,779 INFO sqlalchemy.engine.base.Engine \n",
      "insert into students (name, college, year, group_project)\n",
      "    values(?, ?, ?, ?)\n",
      "\n",
      "2020-03-09 10:42:41,780 INFO sqlalchemy.engine.base.Engine ('Yoda', 'qcny', 'senior', 3)\n",
      "2020-03-09 10:42:41,781 INFO sqlalchemy.engine.base.Engine COMMIT\n",
      "\n",
      " inserting ObiWan Kenobi\n",
      "2020-03-09 10:42:41,782 INFO sqlalchemy.engine.base.Engine \n",
      "insert into students (name, college, year, group_project)\n",
      "    values(?, ?, ?, ?)\n",
      "\n",
      "2020-03-09 10:42:41,782 INFO sqlalchemy.engine.base.Engine ('ObiWan Kenobi', 'sicny', 'senior', 4)\n",
      "2020-03-09 10:42:41,783 INFO sqlalchemy.engine.base.Engine COMMIT\n",
      "\n",
      " inserting Prinncess Leia\n",
      "2020-03-09 10:42:41,784 INFO sqlalchemy.engine.base.Engine \n",
      "insert into students (name, college, year, group_project)\n",
      "    values(?, ?, ?, ?)\n",
      "\n",
      "2020-03-09 10:42:41,785 INFO sqlalchemy.engine.base.Engine ('Prinncess Leia', 'lcny', 'sophomore', 1)\n",
      "2020-03-09 10:42:41,786 INFO sqlalchemy.engine.base.Engine COMMIT\n",
      "\n",
      " inserting Luke Skywalker\n",
      "2020-03-09 10:42:41,787 INFO sqlalchemy.engine.base.Engine \n",
      "insert into students (name, college, year, group_project)\n",
      "    values(?, ?, ?, ?)\n",
      "\n",
      "2020-03-09 10:42:41,788 INFO sqlalchemy.engine.base.Engine ('Luke Skywalker', 'hcny', 'sophomore', 3)\n",
      "2020-03-09 10:42:41,789 INFO sqlalchemy.engine.base.Engine COMMIT\n",
      "\n",
      " inserting Rey\n",
      "2020-03-09 10:42:41,790 INFO sqlalchemy.engine.base.Engine \n",
      "insert into students (name, college, year, group_project)\n",
      "    values(?, ?, ?, ?)\n",
      "\n",
      "2020-03-09 10:42:41,790 INFO sqlalchemy.engine.base.Engine ('Rey', 'ycny', 'freshmane', 3)\n",
      "2020-03-09 10:42:41,791 INFO sqlalchemy.engine.base.Engine COMMIT\n",
      "\n",
      " inserting Darth Maul\n",
      "2020-03-09 10:42:41,793 INFO sqlalchemy.engine.base.Engine \n",
      "insert into students (name, college, year, group_project)\n",
      "    values(?, ?, ?, ?)\n",
      "\n",
      "2020-03-09 10:42:41,793 INFO sqlalchemy.engine.base.Engine ('Darth Maul', 'lcny', 'senior', 2)\n",
      "2020-03-09 10:42:41,794 INFO sqlalchemy.engine.base.Engine COMMIT\n",
      "\n",
      " inserting Lando Calrissian\n",
      "2020-03-09 10:42:41,795 INFO sqlalchemy.engine.base.Engine \n",
      "insert into students (name, college, year, group_project)\n",
      "    values(?, ?, ?, ?)\n",
      "\n",
      "2020-03-09 10:42:41,796 INFO sqlalchemy.engine.base.Engine ('Lando Calrissian', 'bcny', 'junior', 4)\n",
      "2020-03-09 10:42:41,797 INFO sqlalchemy.engine.base.Engine COMMIT\n",
      "\n",
      " inserting Chewbacca\n",
      "2020-03-09 10:42:41,798 INFO sqlalchemy.engine.base.Engine \n",
      "insert into students (name, college, year, group_project)\n",
      "    values(?, ?, ?, ?)\n",
      "\n",
      "2020-03-09 10:42:41,798 INFO sqlalchemy.engine.base.Engine ('Chewbacca', 'qcny', 'junior', 1)\n",
      "2020-03-09 10:42:41,799 INFO sqlalchemy.engine.base.Engine COMMIT\n",
      "\n",
      " inserting Finn\n",
      "2020-03-09 10:42:41,800 INFO sqlalchemy.engine.base.Engine \n",
      "insert into students (name, college, year, group_project)\n",
      "    values(?, ?, ?, ?)\n",
      "\n",
      "2020-03-09 10:42:41,801 INFO sqlalchemy.engine.base.Engine ('Finn', 'sicny', 'freshman', 4)\n",
      "2020-03-09 10:42:41,802 INFO sqlalchemy.engine.base.Engine COMMIT\n",
      "\n",
      " inserting Kylo Ren\n",
      "2020-03-09 10:42:41,803 INFO sqlalchemy.engine.base.Engine \n",
      "insert into students (name, college, year, group_project)\n",
      "    values(?, ?, ?, ?)\n",
      "\n",
      "2020-03-09 10:42:41,804 INFO sqlalchemy.engine.base.Engine ('Kylo Ren', 'ccny', 'junior', 2)\n",
      "2020-03-09 10:42:41,804 INFO sqlalchemy.engine.base.Engine COMMIT\n"
     ]
    }
   ],
   "source": [
    "people_list = [\n",
    "    ('Han Solo', 'ccny', 'junior', 1),\n",
    "    ('Darth Vader', 'bcny', 'senior', 2),\n",
    "    ('Yoda', 'qcny', 'senior', 3),\n",
    "    ('ObiWan Kenobi', 'sicny', 'senior', 4),\n",
    "    ('Prinncess Leia', 'lcny', 'sophomore', 1),\n",
    "    ('Luke Skywalker', 'hcny', 'sophomore', 3),\n",
    "    ('Rey', 'ycny', 'freshmane', 3),\n",
    "    ('Darth Maul', 'lcny', 'senior', 2),\n",
    "    ('Lando Calrissian', 'bcny', 'junior', 4),\n",
    "    ('Chewbacca', 'qcny', 'junior', 1),\n",
    "    ('Finn', 'sicny', 'freshman', 4),\n",
    "    ('Kylo Ren', 'ccny', 'junior', 2)\n",
    "]\n",
    "\n",
    "insert_statement = \"\"\"\n",
    "insert into students (name, college, year, group_project)\n",
    "    values(?, ?, ?, ?)\n",
    "\"\"\"\n",
    "\n",
    "for row in people_list:\n",
    "    print('\\n', f\"inserting {row[0]}\")\n",
    "    \n",
    "    # insert into db\n",
    "    engine_disk.execute(insert_statement, *row)"
   ]
  },
  {
   "cell_type": "markdown",
   "metadata": {},
   "source": [
    "#### From a Pandas Data Frame\n",
    "\n",
    "Pandas Data Frames can be fed to a database by the `to_sql` method and connecting to the engine. The next example creates a table for the type of machine learning each group will use for their project."
   ]
  },
  {
   "cell_type": "code",
   "execution_count": 11,
   "metadata": {},
   "outputs": [],
   "source": [
    "# Pandas library\n",
    "import pandas as pd"
   ]
  },
  {
   "cell_type": "code",
   "execution_count": 12,
   "metadata": {},
   "outputs": [],
   "source": [
    "projects_list = [\n",
    "    ('Supervised', 1),\n",
    "    ('Unsupervised', 2),\n",
    "    ('Clustering', 3),\n",
    "    ('Data reduction', 4)\n",
    "]"
   ]
  },
  {
   "cell_type": "code",
   "execution_count": 13,
   "metadata": {},
   "outputs": [],
   "source": [
    "df = pd.DataFrame(projects_list, columns=['ml_type', 'group_project'])"
   ]
  },
  {
   "cell_type": "code",
   "execution_count": 14,
   "metadata": {},
   "outputs": [
    {
     "data": {
      "text/html": [
       "<div>\n",
       "<style scoped>\n",
       "    .dataframe tbody tr th:only-of-type {\n",
       "        vertical-align: middle;\n",
       "    }\n",
       "\n",
       "    .dataframe tbody tr th {\n",
       "        vertical-align: top;\n",
       "    }\n",
       "\n",
       "    .dataframe thead th {\n",
       "        text-align: right;\n",
       "    }\n",
       "</style>\n",
       "<table border=\"1\" class=\"dataframe\">\n",
       "  <thead>\n",
       "    <tr style=\"text-align: right;\">\n",
       "      <th></th>\n",
       "      <th>ml_type</th>\n",
       "      <th>group_project</th>\n",
       "    </tr>\n",
       "  </thead>\n",
       "  <tbody>\n",
       "    <tr>\n",
       "      <td>0</td>\n",
       "      <td>Supervised</td>\n",
       "      <td>1</td>\n",
       "    </tr>\n",
       "    <tr>\n",
       "      <td>1</td>\n",
       "      <td>Unsupervised</td>\n",
       "      <td>2</td>\n",
       "    </tr>\n",
       "    <tr>\n",
       "      <td>2</td>\n",
       "      <td>Clustering</td>\n",
       "      <td>3</td>\n",
       "    </tr>\n",
       "    <tr>\n",
       "      <td>3</td>\n",
       "      <td>Data reduction</td>\n",
       "      <td>4</td>\n",
       "    </tr>\n",
       "  </tbody>\n",
       "</table>\n",
       "</div>"
      ],
      "text/plain": [
       "          ml_type  group_project\n",
       "0      Supervised              1\n",
       "1    Unsupervised              2\n",
       "2      Clustering              3\n",
       "3  Data reduction              4"
      ]
     },
     "execution_count": 14,
     "metadata": {},
     "output_type": "execute_result"
    }
   ],
   "source": [
    "df"
   ]
  },
  {
   "cell_type": "code",
   "execution_count": 15,
   "metadata": {},
   "outputs": [
    {
     "name": "stdout",
     "output_type": "stream",
     "text": [
      "2020-03-09 10:42:42,253 INFO sqlalchemy.engine.base.Engine PRAGMA main.table_info(\"ml_projects\")\n",
      "2020-03-09 10:42:42,254 INFO sqlalchemy.engine.base.Engine ()\n",
      "2020-03-09 10:42:42,255 INFO sqlalchemy.engine.base.Engine PRAGMA temp.table_info(\"ml_projects\")\n",
      "2020-03-09 10:42:42,255 INFO sqlalchemy.engine.base.Engine ()\n",
      "2020-03-09 10:42:42,257 INFO sqlalchemy.engine.base.Engine \n",
      "CREATE TABLE ml_projects (\n",
      "\t\"index\" BIGINT, \n",
      "\tml_type TEXT, \n",
      "\tgroup_project BIGINT\n",
      ")\n",
      "\n",
      "\n",
      "2020-03-09 10:42:42,258 INFO sqlalchemy.engine.base.Engine ()\n",
      "2020-03-09 10:42:42,259 INFO sqlalchemy.engine.base.Engine COMMIT\n",
      "2020-03-09 10:42:42,259 INFO sqlalchemy.engine.base.Engine CREATE INDEX ix_ml_projects_index ON ml_projects (\"index\")\n",
      "2020-03-09 10:42:42,260 INFO sqlalchemy.engine.base.Engine ()\n",
      "2020-03-09 10:42:42,261 INFO sqlalchemy.engine.base.Engine COMMIT\n",
      "2020-03-09 10:42:42,263 INFO sqlalchemy.engine.base.Engine BEGIN (implicit)\n",
      "2020-03-09 10:42:42,264 INFO sqlalchemy.engine.base.Engine INSERT INTO ml_projects (\"index\", ml_type, group_project) VALUES (?, ?, ?)\n",
      "2020-03-09 10:42:42,264 INFO sqlalchemy.engine.base.Engine ((0, 'Supervised', 1), (1, 'Unsupervised', 2), (2, 'Clustering', 3), (3, 'Data reduction', 4))\n",
      "2020-03-09 10:42:42,265 INFO sqlalchemy.engine.base.Engine COMMIT\n"
     ]
    }
   ],
   "source": [
    "# create a new table in our database from the data frame\n",
    "df.to_sql('ml_projects', con=engine_disk)"
   ]
  },
  {
   "cell_type": "code",
   "execution_count": 16,
   "metadata": {},
   "outputs": [
    {
     "name": "stdout",
     "output_type": "stream",
     "text": [
      "2020-03-09 10:42:42,269 INFO sqlalchemy.engine.base.Engine SELECT name FROM sqlite_master WHERE type='table' ORDER BY name\n",
      "2020-03-09 10:42:42,270 INFO sqlalchemy.engine.base.Engine ()\n"
     ]
    },
    {
     "data": {
      "text/plain": [
       "['ml_projects', 'students']"
      ]
     },
     "execution_count": 16,
     "metadata": {},
     "output_type": "execute_result"
    }
   ],
   "source": [
    "engine_disk.table_names()"
   ]
  },
  {
   "cell_type": "code",
   "execution_count": 17,
   "metadata": {},
   "outputs": [
    {
     "name": "stdout",
     "output_type": "stream",
     "text": [
      "2020-03-09 10:42:42,276 INFO sqlalchemy.engine.base.Engine select * from ml_projects\n",
      "2020-03-09 10:42:42,277 INFO sqlalchemy.engine.base.Engine ()\n",
      "\n",
      " {'index': 0, 'ml_type': 'Supervised', 'group_project': 1}\n",
      "\n",
      " {'index': 1, 'ml_type': 'Unsupervised', 'group_project': 2}\n",
      "\n",
      " {'index': 2, 'ml_type': 'Clustering', 'group_project': 3}\n",
      "\n",
      " {'index': 3, 'ml_type': 'Data reduction', 'group_project': 4}\n"
     ]
    }
   ],
   "source": [
    "select_statement = \"\"\"select * from ml_projects\"\"\"\n",
    "\n",
    "select_table = engine_disk.execute(select_statement)\n",
    "\n",
    "for row in select_table:\n",
    "    print('\\n',dict(row))\n"
   ]
  },
  {
   "cell_type": "markdown",
   "metadata": {},
   "source": [
    "### Retrieve Selected Rows"
   ]
  },
  {
   "cell_type": "code",
   "execution_count": 18,
   "metadata": {},
   "outputs": [
    {
     "name": "stdout",
     "output_type": "stream",
     "text": [
      "2020-03-09 10:42:42,283 INFO sqlalchemy.engine.base.Engine select * from students where group_project = 1\n",
      "2020-03-09 10:42:42,283 INFO sqlalchemy.engine.base.Engine ()\n"
     ]
    }
   ],
   "source": [
    "# selection for numbers\n",
    "select_statement = \"\"\"select * from students where group_project = 1\"\"\"\n",
    "\n",
    "select_table = engine_disk.execute(select_statement)"
   ]
  },
  {
   "cell_type": "code",
   "execution_count": 19,
   "metadata": {},
   "outputs": [
    {
     "name": "stdout",
     "output_type": "stream",
     "text": [
      "{'id': 1, 'name': 'Han Solo', 'college': 'ccny', 'year': 'junior', 'group_project': 1}\n",
      "{'id': 5, 'name': 'Prinncess Leia', 'college': 'lcny', 'year': 'sophomore', 'group_project': 1}\n",
      "{'id': 10, 'name': 'Chewbacca', 'college': 'qcny', 'year': 'junior', 'group_project': 1}\n"
     ]
    }
   ],
   "source": [
    "# print out selection\n",
    "for row in select_table:\n",
    "    print(dict(row))"
   ]
  },
  {
   "cell_type": "code",
   "execution_count": 20,
   "metadata": {},
   "outputs": [
    {
     "name": "stdout",
     "output_type": "stream",
     "text": [
      "2020-03-09 10:42:42,293 INFO sqlalchemy.engine.base.Engine select * from students where year <> 'senior'\n",
      "2020-03-09 10:42:42,293 INFO sqlalchemy.engine.base.Engine ()\n"
     ]
    }
   ],
   "source": [
    "# new selection for strings\n",
    "select_statement2 = \"\"\"select * from students where year <> 'senior'\"\"\"\n",
    "\n",
    "select_table2 = engine_disk.execute(select_statement2)"
   ]
  },
  {
   "cell_type": "code",
   "execution_count": 21,
   "metadata": {},
   "outputs": [
    {
     "name": "stdout",
     "output_type": "stream",
     "text": [
      "(1, 'Han Solo', 'ccny', 'junior', 1)\n",
      "(5, 'Prinncess Leia', 'lcny', 'sophomore', 1)\n",
      "(6, 'Luke Skywalker', 'hcny', 'sophomore', 3)\n",
      "(7, 'Rey', 'ycny', 'freshmane', 3)\n",
      "(9, 'Lando Calrissian', 'bcny', 'junior', 4)\n",
      "(10, 'Chewbacca', 'qcny', 'junior', 1)\n",
      "(11, 'Finn', 'sicny', 'freshman', 4)\n",
      "(12, 'Kylo Ren', 'ccny', 'junior', 2)\n"
     ]
    }
   ],
   "source": [
    "# print out new selection\n",
    "for row in select_table2:\n",
    "    print(row)"
   ]
  },
  {
   "cell_type": "markdown",
   "metadata": {},
   "source": [
    "### Update Selected Rows"
   ]
  },
  {
   "cell_type": "code",
   "execution_count": 22,
   "metadata": {},
   "outputs": [
    {
     "name": "stdout",
     "output_type": "stream",
     "text": [
      "2020-03-09 10:42:42,304 INFO sqlalchemy.engine.base.Engine select name, college, group_project from students where name = 'Finn'\n",
      "2020-03-09 10:42:42,304 INFO sqlalchemy.engine.base.Engine ()\n"
     ]
    }
   ],
   "source": [
    "new_select = engine_disk.execute(\"\"\"select name, college, group_project from students where name = 'Finn'\"\"\")"
   ]
  },
  {
   "cell_type": "code",
   "execution_count": 23,
   "metadata": {},
   "outputs": [
    {
     "name": "stdout",
     "output_type": "stream",
     "text": [
      "{'name': 'Finn', 'college': 'sicny', 'group_project': 4}\n"
     ]
    }
   ],
   "source": [
    "# print out updated info\n",
    "for row in new_select:\n",
    "    print(dict(row))"
   ]
  },
  {
   "cell_type": "code",
   "execution_count": 24,
   "metadata": {},
   "outputs": [
    {
     "name": "stdout",
     "output_type": "stream",
     "text": [
      "2020-03-09 10:42:42,319 INFO sqlalchemy.engine.base.Engine \n",
      "update students\n",
      "set college = ?\n",
      "where name = ?\n",
      "\n",
      "2020-03-09 10:42:42,320 INFO sqlalchemy.engine.base.Engine ('ccny', 'Finn')\n",
      "2020-03-09 10:42:42,321 INFO sqlalchemy.engine.base.Engine COMMIT\n"
     ]
    },
    {
     "data": {
      "text/plain": [
       "<sqlalchemy.engine.result.ResultProxy at 0x7fd118093b90>"
      ]
     },
     "execution_count": 24,
     "metadata": {},
     "output_type": "execute_result"
    }
   ],
   "source": [
    "update_statement = \"\"\"\n",
    "update students\n",
    "set college = ?\n",
    "where name = ?\n",
    "\"\"\"\n",
    "\n",
    "engine_disk.execute(update_statement, 'ccny', 'Finn')"
   ]
  },
  {
   "cell_type": "code",
   "execution_count": 25,
   "metadata": {},
   "outputs": [
    {
     "name": "stdout",
     "output_type": "stream",
     "text": [
      "2020-03-09 10:42:42,327 INFO sqlalchemy.engine.base.Engine select name, college, group_project from students where name = 'Finn'\n",
      "2020-03-09 10:42:42,327 INFO sqlalchemy.engine.base.Engine ()\n"
     ]
    }
   ],
   "source": [
    "# get info after being updated\n",
    "new_select = engine_disk.execute(\"\"\"select name, college, group_project from students where name = 'Finn'\"\"\")"
   ]
  },
  {
   "cell_type": "code",
   "execution_count": 26,
   "metadata": {},
   "outputs": [
    {
     "name": "stdout",
     "output_type": "stream",
     "text": [
      "{'name': 'Finn', 'college': 'ccny', 'group_project': 4}\n"
     ]
    }
   ],
   "source": [
    "# print out updated info\n",
    "for row in new_select:\n",
    "    print(dict(row))"
   ]
  },
  {
   "cell_type": "markdown",
   "metadata": {},
   "source": [
    "## Joining Tables"
   ]
  },
  {
   "cell_type": "code",
   "execution_count": 27,
   "metadata": {},
   "outputs": [
    {
     "name": "stdout",
     "output_type": "stream",
     "text": [
      "2020-03-09 10:42:42,337 INFO sqlalchemy.engine.base.Engine select * from ml_projects\n",
      "2020-03-09 10:42:42,338 INFO sqlalchemy.engine.base.Engine ()\n",
      "{'index': 0, 'ml_type': 'Supervised', 'group_project': 1}\n",
      "{'index': 1, 'ml_type': 'Unsupervised', 'group_project': 2}\n",
      "{'index': 2, 'ml_type': 'Clustering', 'group_project': 3}\n",
      "{'index': 3, 'ml_type': 'Data reduction', 'group_project': 4}\n"
     ]
    }
   ],
   "source": [
    "new_select = engine_disk.execute('select * from ml_projects')\n",
    "\n",
    "for row in new_select:\n",
    "    print(dict(row))"
   ]
  },
  {
   "cell_type": "code",
   "execution_count": 28,
   "metadata": {},
   "outputs": [],
   "source": [
    "statement_join = \"\"\"\n",
    "create table students_ml as\n",
    "select name, college, year, ml_type from students\n",
    "inner join ml_projects\n",
    "on ml_projects.group_project = students.group_project;\n",
    "\"\"\""
   ]
  },
  {
   "cell_type": "code",
   "execution_count": 29,
   "metadata": {},
   "outputs": [
    {
     "name": "stdout",
     "output_type": "stream",
     "text": [
      "2020-03-09 10:42:42,348 INFO sqlalchemy.engine.base.Engine \n",
      "create table students_ml as\n",
      "select name, college, year, ml_type from students\n",
      "inner join ml_projects\n",
      "on ml_projects.group_project = students.group_project;\n",
      "\n",
      "2020-03-09 10:42:42,349 INFO sqlalchemy.engine.base.Engine ()\n",
      "2020-03-09 10:42:42,350 INFO sqlalchemy.engine.base.Engine COMMIT\n"
     ]
    }
   ],
   "source": [
    "new_select = engine_disk.execute(statement_join)"
   ]
  },
  {
   "cell_type": "code",
   "execution_count": 30,
   "metadata": {},
   "outputs": [
    {
     "name": "stdout",
     "output_type": "stream",
     "text": [
      "2020-03-09 10:42:42,355 INFO sqlalchemy.engine.base.Engine SELECT name FROM sqlite_master WHERE type='table' ORDER BY name\n",
      "2020-03-09 10:42:42,356 INFO sqlalchemy.engine.base.Engine ()\n"
     ]
    },
    {
     "data": {
      "text/plain": [
       "['ml_projects', 'students', 'students_ml']"
      ]
     },
     "execution_count": 30,
     "metadata": {},
     "output_type": "execute_result"
    }
   ],
   "source": [
    "engine_disk.table_names()"
   ]
  },
  {
   "cell_type": "code",
   "execution_count": 31,
   "metadata": {},
   "outputs": [
    {
     "name": "stdout",
     "output_type": "stream",
     "text": [
      "2020-03-09 10:42:42,362 INFO sqlalchemy.engine.base.Engine select * from students_ml\n",
      "2020-03-09 10:42:42,362 INFO sqlalchemy.engine.base.Engine ()\n"
     ]
    },
    {
     "data": {
      "text/plain": [
       "[('Han Solo', 'ccny', 'junior', 'Supervised'),\n",
       " ('Darth Vader', 'bcny', 'senior', 'Unsupervised'),\n",
       " ('Yoda', 'qcny', 'senior', 'Clustering'),\n",
       " ('ObiWan Kenobi', 'sicny', 'senior', 'Data reduction'),\n",
       " ('Prinncess Leia', 'lcny', 'sophomore', 'Supervised'),\n",
       " ('Luke Skywalker', 'hcny', 'sophomore', 'Clustering'),\n",
       " ('Rey', 'ycny', 'freshmane', 'Clustering'),\n",
       " ('Darth Maul', 'lcny', 'senior', 'Unsupervised'),\n",
       " ('Lando Calrissian', 'bcny', 'junior', 'Data reduction'),\n",
       " ('Chewbacca', 'qcny', 'junior', 'Supervised'),\n",
       " ('Finn', 'ccny', 'freshman', 'Data reduction'),\n",
       " ('Kylo Ren', 'ccny', 'junior', 'Unsupervised')]"
      ]
     },
     "execution_count": 31,
     "metadata": {},
     "output_type": "execute_result"
    }
   ],
   "source": [
    "engine_disk.execute('select * from students_ml').fetchall()"
   ]
  },
  {
   "cell_type": "markdown",
   "metadata": {},
   "source": [
    "## SQL table to Pandas Data Frame"
   ]
  },
  {
   "cell_type": "code",
   "execution_count": 32,
   "metadata": {},
   "outputs": [
    {
     "name": "stdout",
     "output_type": "stream",
     "text": [
      "2020-03-09 10:42:42,368 INFO sqlalchemy.engine.base.Engine PRAGMA main.table_info(\"select * from students_ml\")\n",
      "2020-03-09 10:42:42,368 INFO sqlalchemy.engine.base.Engine ()\n",
      "2020-03-09 10:42:42,369 INFO sqlalchemy.engine.base.Engine PRAGMA temp.table_info(\"select * from students_ml\")\n",
      "2020-03-09 10:42:42,370 INFO sqlalchemy.engine.base.Engine ()\n",
      "2020-03-09 10:42:42,371 INFO sqlalchemy.engine.base.Engine select * from students_ml\n",
      "2020-03-09 10:42:42,371 INFO sqlalchemy.engine.base.Engine ()\n"
     ]
    }
   ],
   "source": [
    "df_sql = pd.read_sql('select * from students_ml', engine_disk)"
   ]
  },
  {
   "cell_type": "code",
   "execution_count": 33,
   "metadata": {},
   "outputs": [
    {
     "data": {
      "text/html": [
       "<div>\n",
       "<style scoped>\n",
       "    .dataframe tbody tr th:only-of-type {\n",
       "        vertical-align: middle;\n",
       "    }\n",
       "\n",
       "    .dataframe tbody tr th {\n",
       "        vertical-align: top;\n",
       "    }\n",
       "\n",
       "    .dataframe thead th {\n",
       "        text-align: right;\n",
       "    }\n",
       "</style>\n",
       "<table border=\"1\" class=\"dataframe\">\n",
       "  <thead>\n",
       "    <tr style=\"text-align: right;\">\n",
       "      <th></th>\n",
       "      <th>name</th>\n",
       "      <th>college</th>\n",
       "      <th>year</th>\n",
       "      <th>ml_type</th>\n",
       "    </tr>\n",
       "  </thead>\n",
       "  <tbody>\n",
       "    <tr>\n",
       "      <td>0</td>\n",
       "      <td>Han Solo</td>\n",
       "      <td>ccny</td>\n",
       "      <td>junior</td>\n",
       "      <td>Supervised</td>\n",
       "    </tr>\n",
       "    <tr>\n",
       "      <td>1</td>\n",
       "      <td>Darth Vader</td>\n",
       "      <td>bcny</td>\n",
       "      <td>senior</td>\n",
       "      <td>Unsupervised</td>\n",
       "    </tr>\n",
       "    <tr>\n",
       "      <td>2</td>\n",
       "      <td>Yoda</td>\n",
       "      <td>qcny</td>\n",
       "      <td>senior</td>\n",
       "      <td>Clustering</td>\n",
       "    </tr>\n",
       "    <tr>\n",
       "      <td>3</td>\n",
       "      <td>ObiWan Kenobi</td>\n",
       "      <td>sicny</td>\n",
       "      <td>senior</td>\n",
       "      <td>Data reduction</td>\n",
       "    </tr>\n",
       "    <tr>\n",
       "      <td>4</td>\n",
       "      <td>Prinncess Leia</td>\n",
       "      <td>lcny</td>\n",
       "      <td>sophomore</td>\n",
       "      <td>Supervised</td>\n",
       "    </tr>\n",
       "    <tr>\n",
       "      <td>5</td>\n",
       "      <td>Luke Skywalker</td>\n",
       "      <td>hcny</td>\n",
       "      <td>sophomore</td>\n",
       "      <td>Clustering</td>\n",
       "    </tr>\n",
       "    <tr>\n",
       "      <td>6</td>\n",
       "      <td>Rey</td>\n",
       "      <td>ycny</td>\n",
       "      <td>freshmane</td>\n",
       "      <td>Clustering</td>\n",
       "    </tr>\n",
       "    <tr>\n",
       "      <td>7</td>\n",
       "      <td>Darth Maul</td>\n",
       "      <td>lcny</td>\n",
       "      <td>senior</td>\n",
       "      <td>Unsupervised</td>\n",
       "    </tr>\n",
       "    <tr>\n",
       "      <td>8</td>\n",
       "      <td>Lando Calrissian</td>\n",
       "      <td>bcny</td>\n",
       "      <td>junior</td>\n",
       "      <td>Data reduction</td>\n",
       "    </tr>\n",
       "    <tr>\n",
       "      <td>9</td>\n",
       "      <td>Chewbacca</td>\n",
       "      <td>qcny</td>\n",
       "      <td>junior</td>\n",
       "      <td>Supervised</td>\n",
       "    </tr>\n",
       "    <tr>\n",
       "      <td>10</td>\n",
       "      <td>Finn</td>\n",
       "      <td>ccny</td>\n",
       "      <td>freshman</td>\n",
       "      <td>Data reduction</td>\n",
       "    </tr>\n",
       "    <tr>\n",
       "      <td>11</td>\n",
       "      <td>Kylo Ren</td>\n",
       "      <td>ccny</td>\n",
       "      <td>junior</td>\n",
       "      <td>Unsupervised</td>\n",
       "    </tr>\n",
       "  </tbody>\n",
       "</table>\n",
       "</div>"
      ],
      "text/plain": [
       "                name college       year         ml_type\n",
       "0           Han Solo    ccny     junior      Supervised\n",
       "1        Darth Vader    bcny     senior    Unsupervised\n",
       "2               Yoda    qcny     senior      Clustering\n",
       "3      ObiWan Kenobi   sicny     senior  Data reduction\n",
       "4     Prinncess Leia    lcny  sophomore      Supervised\n",
       "5     Luke Skywalker    hcny  sophomore      Clustering\n",
       "6                Rey    ycny  freshmane      Clustering\n",
       "7         Darth Maul    lcny     senior    Unsupervised\n",
       "8   Lando Calrissian    bcny     junior  Data reduction\n",
       "9          Chewbacca    qcny     junior      Supervised\n",
       "10              Finn    ccny   freshman  Data reduction\n",
       "11          Kylo Ren    ccny     junior    Unsupervised"
      ]
     },
     "execution_count": 33,
     "metadata": {},
     "output_type": "execute_result"
    }
   ],
   "source": [
    "df_sql"
   ]
  },
  {
   "cell_type": "markdown",
   "metadata": {},
   "source": [
    "# SQL Exercise\n",
    "\n",
    "## Database and Table Information"
   ]
  },
  {
   "cell_type": "code",
   "execution_count": null,
   "metadata": {},
   "outputs": [],
   "source": [
    "# Database infomation\n",
    "\n",
    "# your code goes here\n"
   ]
  },
  {
   "cell_type": "code",
   "execution_count": 34,
   "metadata": {},
   "outputs": [
    {
     "name": "stdout",
     "output_type": "stream",
     "text": [
      "2020-03-09 10:42:42,387 INFO sqlalchemy.engine.base.Engine SELECT name FROM sqlite_master WHERE type='table' ORDER BY name\n",
      "2020-03-09 10:42:42,387 INFO sqlalchemy.engine.base.Engine ()\n"
     ]
    },
    {
     "data": {
      "text/plain": [
       "['ml_projects', 'students', 'students_ml']"
      ]
     },
     "execution_count": 34,
     "metadata": {},
     "output_type": "execute_result"
    }
   ],
   "source": [
    "# Database infomation\n",
    "# Answer"
   ]
  },
  {
   "cell_type": "code",
   "execution_count": null,
   "metadata": {},
   "outputs": [],
   "source": [
    "# get column information for ml_projects\n",
    "\n",
    "# your code goes here\n"
   ]
  },
  {
   "cell_type": "code",
   "execution_count": 35,
   "metadata": {},
   "outputs": [
    {
     "name": "stdout",
     "output_type": "stream",
     "text": [
      "2020-03-09 10:42:42,394 INFO sqlalchemy.engine.base.Engine PRAGMA main.table_info(\"ml_projects\")\n",
      "2020-03-09 10:42:42,394 INFO sqlalchemy.engine.base.Engine ()\n",
      "{'name': 'index', 'type': BIGINT(), 'nullable': True, 'default': None, 'autoincrement': 'auto', 'primary_key': 0}\n",
      "{'name': 'ml_type', 'type': TEXT(), 'nullable': True, 'default': None, 'autoincrement': 'auto', 'primary_key': 0}\n",
      "{'name': 'group_project', 'type': BIGINT(), 'nullable': True, 'default': None, 'autoincrement': 'auto', 'primary_key': 0}\n"
     ]
    }
   ],
   "source": [
    "# get column information for ml_projects\n",
    "\n",
    "# Answer"
   ]
  },
  {
   "cell_type": "markdown",
   "metadata": {},
   "source": [
    "## Create a Table\n",
    "\n",
    "In this exercise you will create a table named students_script to store the name and favorite scripting langaubge of each student. In other worlds, the students_script table must have three columns: id, name, and script."
   ]
  },
  {
   "cell_type": "code",
   "execution_count": null,
   "metadata": {},
   "outputs": [],
   "source": [
    "# sql statement, your sql code goes here\n",
    "create_table_statement = \"\"\"\n",
    ".............\n",
    ".............\n",
    "\"\"\""
   ]
  },
  {
   "cell_type": "code",
   "execution_count": null,
   "metadata": {},
   "outputs": [],
   "source": [
    "# drop table if table already exists\n",
    "drop_table_statement = \"\"\"drop table if exists students_script\"\"\"\n",
    "engine_disk.execute(drop_table_statement)\n",
    "\n",
    "\n",
    "\n",
    "engine_disk.execute(create_table_statement)"
   ]
  },
  {
   "cell_type": "code",
   "execution_count": 36,
   "metadata": {},
   "outputs": [
    {
     "name": "stdout",
     "output_type": "stream",
     "text": [
      "2020-03-09 10:42:42,400 INFO sqlalchemy.engine.base.Engine drop table if exists students_script\n",
      "2020-03-09 10:42:42,401 INFO sqlalchemy.engine.base.Engine ()\n",
      "2020-03-09 10:42:42,401 INFO sqlalchemy.engine.base.Engine COMMIT\n",
      "2020-03-09 10:42:42,402 INFO sqlalchemy.engine.base.Engine create table students_script(\n",
      "    id integer primary key,\n",
      "    name text not null,\n",
      "    script text not null\n",
      ");\n",
      "\n",
      "2020-03-09 10:42:42,403 INFO sqlalchemy.engine.base.Engine ()\n",
      "2020-03-09 10:42:42,405 INFO sqlalchemy.engine.base.Engine COMMIT\n"
     ]
    },
    {
     "data": {
      "text/plain": [
       "<sqlalchemy.engine.result.ResultProxy at 0x7fd17880ad10>"
      ]
     },
     "execution_count": 36,
     "metadata": {},
     "output_type": "execute_result"
    }
   ],
   "source": [
    "# Final answer"
   ]
  },
  {
   "cell_type": "markdown",
   "metadata": {},
   "source": [
    "## Explore the Database"
   ]
  },
  {
   "cell_type": "code",
   "execution_count": null,
   "metadata": {},
   "outputs": [],
   "source": [
    "# Database information\n",
    "\n",
    "# your code goes here\n"
   ]
  },
  {
   "cell_type": "code",
   "execution_count": 37,
   "metadata": {},
   "outputs": [
    {
     "name": "stdout",
     "output_type": "stream",
     "text": [
      "2020-03-09 10:42:42,410 INFO sqlalchemy.engine.base.Engine SELECT name FROM sqlite_master WHERE type='table' ORDER BY name\n",
      "2020-03-09 10:42:42,411 INFO sqlalchemy.engine.base.Engine ()\n"
     ]
    },
    {
     "data": {
      "text/plain": [
       "['ml_projects', 'students', 'students_ml', 'students_script']"
      ]
     },
     "execution_count": 37,
     "metadata": {},
     "output_type": "execute_result"
    }
   ],
   "source": [
    "# Database information\n",
    "\n",
    "# Answer"
   ]
  },
  {
   "cell_type": "code",
   "execution_count": null,
   "metadata": {},
   "outputs": [],
   "source": [
    "# Table information\n",
    "\n",
    "# your code goes here\n"
   ]
  },
  {
   "cell_type": "code",
   "execution_count": 38,
   "metadata": {},
   "outputs": [
    {
     "name": "stdout",
     "output_type": "stream",
     "text": [
      "2020-03-09 10:42:42,417 INFO sqlalchemy.engine.base.Engine PRAGMA main.table_info(\"students_script\")\n",
      "2020-03-09 10:42:42,418 INFO sqlalchemy.engine.base.Engine ()\n",
      "{'name': 'id', 'type': INTEGER(), 'nullable': True, 'default': None, 'autoincrement': 'auto', 'primary_key': 1}\n",
      "{'name': 'name', 'type': TEXT(), 'nullable': False, 'default': None, 'autoincrement': 'auto', 'primary_key': 0}\n",
      "{'name': 'script', 'type': TEXT(), 'nullable': False, 'default': None, 'autoincrement': 'auto', 'primary_key': 0}\n"
     ]
    }
   ],
   "source": [
    "# Table information\n",
    "\n",
    "# Answer"
   ]
  },
  {
   "cell_type": "markdown",
   "metadata": {},
   "source": [
    "## Feed the new Table"
   ]
  },
  {
   "cell_type": "code",
   "execution_count": 39,
   "metadata": {},
   "outputs": [],
   "source": [
    "# new list of tuples\n",
    "people_list = [\n",
    "    ('Han Solo', 'C++'),\n",
    "    ('Darth Vader', 'C'),\n",
    "    ('Yoda', 'C'),\n",
    "    ('ObiWan Kenobi', 'C'),\n",
    "    ('Prinncess Leia', 'Java'),\n",
    "    ('Luke Skywalker', 'Java'),\n",
    "    ('Rey', 'Python'),\n",
    "    ('Darth Maul', 'JavaScript'),\n",
    "    ('Lando Calrissian', 'C++'),\n",
    "    ('Chewbacca', 'C++'),\n",
    "    ('Finn', 'Python'),\n",
    "    ('Kylo Ren', 'JavaScript')\n",
    "]"
   ]
  },
  {
   "cell_type": "code",
   "execution_count": null,
   "metadata": {},
   "outputs": [],
   "source": [
    "# your code goes here\n",
    "\n",
    "insert_statement = \"\"\"\n",
    ".........\n",
    "....\n",
    "\"\"\"\n",
    "\n",
    "for row in people_list:\n",
    "    print('\\n', f\"inserting {row[0]}\")\n",
    "    \n",
    "    # insert into db\n",
    "    engine_disk.execute(insert_statement, *row)"
   ]
  },
  {
   "cell_type": "code",
   "execution_count": 40,
   "metadata": {},
   "outputs": [
    {
     "name": "stdout",
     "output_type": "stream",
     "text": [
      "\n",
      " inserting Han Solo\n",
      "2020-03-09 10:42:42,429 INFO sqlalchemy.engine.base.Engine \n",
      "insert into students_script (name, script)\n",
      "    values(?, ?)\n",
      "\n",
      "2020-03-09 10:42:42,429 INFO sqlalchemy.engine.base.Engine ('Han Solo', 'C++')\n",
      "2020-03-09 10:42:42,430 INFO sqlalchemy.engine.base.Engine COMMIT\n",
      "\n",
      " inserting Darth Vader\n",
      "2020-03-09 10:42:42,432 INFO sqlalchemy.engine.base.Engine \n",
      "insert into students_script (name, script)\n",
      "    values(?, ?)\n",
      "\n",
      "2020-03-09 10:42:42,432 INFO sqlalchemy.engine.base.Engine ('Darth Vader', 'C')\n",
      "2020-03-09 10:42:42,433 INFO sqlalchemy.engine.base.Engine COMMIT\n",
      "\n",
      " inserting Yoda\n",
      "2020-03-09 10:42:42,434 INFO sqlalchemy.engine.base.Engine \n",
      "insert into students_script (name, script)\n",
      "    values(?, ?)\n",
      "\n",
      "2020-03-09 10:42:42,434 INFO sqlalchemy.engine.base.Engine ('Yoda', 'C')\n",
      "2020-03-09 10:42:42,435 INFO sqlalchemy.engine.base.Engine COMMIT\n",
      "\n",
      " inserting ObiWan Kenobi\n",
      "2020-03-09 10:42:42,437 INFO sqlalchemy.engine.base.Engine \n",
      "insert into students_script (name, script)\n",
      "    values(?, ?)\n",
      "\n",
      "2020-03-09 10:42:42,437 INFO sqlalchemy.engine.base.Engine ('ObiWan Kenobi', 'C')\n",
      "2020-03-09 10:42:42,438 INFO sqlalchemy.engine.base.Engine COMMIT\n",
      "\n",
      " inserting Prinncess Leia\n",
      "2020-03-09 10:42:42,440 INFO sqlalchemy.engine.base.Engine \n",
      "insert into students_script (name, script)\n",
      "    values(?, ?)\n",
      "\n",
      "2020-03-09 10:42:42,440 INFO sqlalchemy.engine.base.Engine ('Prinncess Leia', 'Java')\n",
      "2020-03-09 10:42:42,441 INFO sqlalchemy.engine.base.Engine COMMIT\n",
      "\n",
      " inserting Luke Skywalker\n",
      "2020-03-09 10:42:42,442 INFO sqlalchemy.engine.base.Engine \n",
      "insert into students_script (name, script)\n",
      "    values(?, ?)\n",
      "\n",
      "2020-03-09 10:42:42,443 INFO sqlalchemy.engine.base.Engine ('Luke Skywalker', 'Java')\n",
      "2020-03-09 10:42:42,443 INFO sqlalchemy.engine.base.Engine COMMIT\n",
      "\n",
      " inserting Rey\n",
      "2020-03-09 10:42:42,445 INFO sqlalchemy.engine.base.Engine \n",
      "insert into students_script (name, script)\n",
      "    values(?, ?)\n",
      "\n",
      "2020-03-09 10:42:42,445 INFO sqlalchemy.engine.base.Engine ('Rey', 'Python')\n",
      "2020-03-09 10:42:42,446 INFO sqlalchemy.engine.base.Engine COMMIT\n",
      "\n",
      " inserting Darth Maul\n",
      "2020-03-09 10:42:42,447 INFO sqlalchemy.engine.base.Engine \n",
      "insert into students_script (name, script)\n",
      "    values(?, ?)\n",
      "\n",
      "2020-03-09 10:42:42,448 INFO sqlalchemy.engine.base.Engine ('Darth Maul', 'JavaScript')\n",
      "2020-03-09 10:42:42,449 INFO sqlalchemy.engine.base.Engine COMMIT\n",
      "\n",
      " inserting Lando Calrissian\n",
      "2020-03-09 10:42:42,450 INFO sqlalchemy.engine.base.Engine \n",
      "insert into students_script (name, script)\n",
      "    values(?, ?)\n",
      "\n",
      "2020-03-09 10:42:42,450 INFO sqlalchemy.engine.base.Engine ('Lando Calrissian', 'C++')\n",
      "2020-03-09 10:42:42,451 INFO sqlalchemy.engine.base.Engine COMMIT\n",
      "\n",
      " inserting Chewbacca\n",
      "2020-03-09 10:42:42,453 INFO sqlalchemy.engine.base.Engine \n",
      "insert into students_script (name, script)\n",
      "    values(?, ?)\n",
      "\n",
      "2020-03-09 10:42:42,453 INFO sqlalchemy.engine.base.Engine ('Chewbacca', 'C++')\n",
      "2020-03-09 10:42:42,454 INFO sqlalchemy.engine.base.Engine COMMIT\n",
      "\n",
      " inserting Finn\n",
      "2020-03-09 10:42:42,455 INFO sqlalchemy.engine.base.Engine \n",
      "insert into students_script (name, script)\n",
      "    values(?, ?)\n",
      "\n",
      "2020-03-09 10:42:42,456 INFO sqlalchemy.engine.base.Engine ('Finn', 'Python')\n",
      "2020-03-09 10:42:42,457 INFO sqlalchemy.engine.base.Engine COMMIT\n",
      "\n",
      " inserting Kylo Ren\n",
      "2020-03-09 10:42:42,459 INFO sqlalchemy.engine.base.Engine \n",
      "insert into students_script (name, script)\n",
      "    values(?, ?)\n",
      "\n",
      "2020-03-09 10:42:42,459 INFO sqlalchemy.engine.base.Engine ('Kylo Ren', 'JavaScript')\n",
      "2020-03-09 10:42:42,460 INFO sqlalchemy.engine.base.Engine COMMIT\n"
     ]
    }
   ],
   "source": [
    "# Final Answer"
   ]
  },
  {
   "cell_type": "markdown",
   "metadata": {},
   "source": [
    "## Join Tables\n",
    "\n",
    "In this exercise you will join the new table you just created to `students_ml` table by the students name."
   ]
  },
  {
   "cell_type": "code",
   "execution_count": 41,
   "metadata": {},
   "outputs": [],
   "source": [
    "# your sql statement goes here\n",
    "statement_join = \"\"\"\n",
    ".........\n",
    ".........\n",
    "\"\"\""
   ]
  },
  {
   "cell_type": "code",
   "execution_count": null,
   "metadata": {},
   "outputs": [],
   "source": [
    "# run the script\n",
    "engine_disk.execute(statement_join).fetchall()"
   ]
  },
  {
   "cell_type": "code",
   "execution_count": 42,
   "metadata": {},
   "outputs": [
    {
     "name": "stdout",
     "output_type": "stream",
     "text": [
      "2020-03-09 10:42:42,473 INFO sqlalchemy.engine.base.Engine \n",
      "select * from students_ml\n",
      "natural join students_script\n",
      "\n",
      "2020-03-09 10:42:42,474 INFO sqlalchemy.engine.base.Engine ()\n"
     ]
    },
    {
     "data": {
      "text/plain": [
       "[('Han Solo', 'ccny', 'junior', 'Supervised', 1, 'C++'),\n",
       " ('Darth Vader', 'bcny', 'senior', 'Unsupervised', 2, 'C'),\n",
       " ('Yoda', 'qcny', 'senior', 'Clustering', 3, 'C'),\n",
       " ('ObiWan Kenobi', 'sicny', 'senior', 'Data reduction', 4, 'C'),\n",
       " ('Prinncess Leia', 'lcny', 'sophomore', 'Supervised', 5, 'Java'),\n",
       " ('Luke Skywalker', 'hcny', 'sophomore', 'Clustering', 6, 'Java'),\n",
       " ('Rey', 'ycny', 'freshmane', 'Clustering', 7, 'Python'),\n",
       " ('Darth Maul', 'lcny', 'senior', 'Unsupervised', 8, 'JavaScript'),\n",
       " ('Lando Calrissian', 'bcny', 'junior', 'Data reduction', 9, 'C++'),\n",
       " ('Chewbacca', 'qcny', 'junior', 'Supervised', 10, 'C++'),\n",
       " ('Finn', 'ccny', 'freshman', 'Data reduction', 11, 'Python'),\n",
       " ('Kylo Ren', 'ccny', 'junior', 'Unsupervised', 12, 'JavaScript')]"
      ]
     },
     "execution_count": 42,
     "metadata": {},
     "output_type": "execute_result"
    }
   ],
   "source": [
    "# Final Answer"
   ]
  },
  {
   "cell_type": "markdown",
   "metadata": {},
   "source": [
    "## To Pandas Data Frame"
   ]
  },
  {
   "cell_type": "code",
   "execution_count": null,
   "metadata": {},
   "outputs": [],
   "source": [
    "# create a pandas data frame of the join statement above"
   ]
  },
  {
   "cell_type": "code",
   "execution_count": 43,
   "metadata": {},
   "outputs": [
    {
     "name": "stdout",
     "output_type": "stream",
     "text": [
      "2020-03-09 10:42:42,481 INFO sqlalchemy.engine.base.Engine PRAGMA main.table_info(\"\n",
      "select * from students_ml\n",
      "natural join students_script\n",
      "\")\n",
      "2020-03-09 10:42:42,482 INFO sqlalchemy.engine.base.Engine ()\n",
      "2020-03-09 10:42:42,482 INFO sqlalchemy.engine.base.Engine PRAGMA temp.table_info(\"\n",
      "select * from students_ml\n",
      "natural join students_script\n",
      "\")\n",
      "2020-03-09 10:42:42,483 INFO sqlalchemy.engine.base.Engine ()\n",
      "2020-03-09 10:42:42,484 INFO sqlalchemy.engine.base.Engine \n",
      "select * from students_ml\n",
      "natural join students_script\n",
      "\n",
      "2020-03-09 10:42:42,485 INFO sqlalchemy.engine.base.Engine ()\n"
     ]
    }
   ],
   "source": [
    "# Answer when tables are joined"
   ]
  },
  {
   "cell_type": "code",
   "execution_count": null,
   "metadata": {},
   "outputs": [],
   "source": [
    "# print the new data frame\n"
   ]
  },
  {
   "cell_type": "code",
   "execution_count": 44,
   "metadata": {},
   "outputs": [
    {
     "data": {
      "text/html": [
       "<div>\n",
       "<style scoped>\n",
       "    .dataframe tbody tr th:only-of-type {\n",
       "        vertical-align: middle;\n",
       "    }\n",
       "\n",
       "    .dataframe tbody tr th {\n",
       "        vertical-align: top;\n",
       "    }\n",
       "\n",
       "    .dataframe thead th {\n",
       "        text-align: right;\n",
       "    }\n",
       "</style>\n",
       "<table border=\"1\" class=\"dataframe\">\n",
       "  <thead>\n",
       "    <tr style=\"text-align: right;\">\n",
       "      <th></th>\n",
       "      <th>name</th>\n",
       "      <th>college</th>\n",
       "      <th>year</th>\n",
       "      <th>ml_type</th>\n",
       "      <th>id</th>\n",
       "      <th>script</th>\n",
       "    </tr>\n",
       "  </thead>\n",
       "  <tbody>\n",
       "    <tr>\n",
       "      <td>0</td>\n",
       "      <td>Han Solo</td>\n",
       "      <td>ccny</td>\n",
       "      <td>junior</td>\n",
       "      <td>Supervised</td>\n",
       "      <td>1</td>\n",
       "      <td>C++</td>\n",
       "    </tr>\n",
       "    <tr>\n",
       "      <td>1</td>\n",
       "      <td>Darth Vader</td>\n",
       "      <td>bcny</td>\n",
       "      <td>senior</td>\n",
       "      <td>Unsupervised</td>\n",
       "      <td>2</td>\n",
       "      <td>C</td>\n",
       "    </tr>\n",
       "    <tr>\n",
       "      <td>2</td>\n",
       "      <td>Yoda</td>\n",
       "      <td>qcny</td>\n",
       "      <td>senior</td>\n",
       "      <td>Clustering</td>\n",
       "      <td>3</td>\n",
       "      <td>C</td>\n",
       "    </tr>\n",
       "    <tr>\n",
       "      <td>3</td>\n",
       "      <td>ObiWan Kenobi</td>\n",
       "      <td>sicny</td>\n",
       "      <td>senior</td>\n",
       "      <td>Data reduction</td>\n",
       "      <td>4</td>\n",
       "      <td>C</td>\n",
       "    </tr>\n",
       "    <tr>\n",
       "      <td>4</td>\n",
       "      <td>Prinncess Leia</td>\n",
       "      <td>lcny</td>\n",
       "      <td>sophomore</td>\n",
       "      <td>Supervised</td>\n",
       "      <td>5</td>\n",
       "      <td>Java</td>\n",
       "    </tr>\n",
       "    <tr>\n",
       "      <td>5</td>\n",
       "      <td>Luke Skywalker</td>\n",
       "      <td>hcny</td>\n",
       "      <td>sophomore</td>\n",
       "      <td>Clustering</td>\n",
       "      <td>6</td>\n",
       "      <td>Java</td>\n",
       "    </tr>\n",
       "    <tr>\n",
       "      <td>6</td>\n",
       "      <td>Rey</td>\n",
       "      <td>ycny</td>\n",
       "      <td>freshmane</td>\n",
       "      <td>Clustering</td>\n",
       "      <td>7</td>\n",
       "      <td>Python</td>\n",
       "    </tr>\n",
       "    <tr>\n",
       "      <td>7</td>\n",
       "      <td>Darth Maul</td>\n",
       "      <td>lcny</td>\n",
       "      <td>senior</td>\n",
       "      <td>Unsupervised</td>\n",
       "      <td>8</td>\n",
       "      <td>JavaScript</td>\n",
       "    </tr>\n",
       "    <tr>\n",
       "      <td>8</td>\n",
       "      <td>Lando Calrissian</td>\n",
       "      <td>bcny</td>\n",
       "      <td>junior</td>\n",
       "      <td>Data reduction</td>\n",
       "      <td>9</td>\n",
       "      <td>C++</td>\n",
       "    </tr>\n",
       "    <tr>\n",
       "      <td>9</td>\n",
       "      <td>Chewbacca</td>\n",
       "      <td>qcny</td>\n",
       "      <td>junior</td>\n",
       "      <td>Supervised</td>\n",
       "      <td>10</td>\n",
       "      <td>C++</td>\n",
       "    </tr>\n",
       "    <tr>\n",
       "      <td>10</td>\n",
       "      <td>Finn</td>\n",
       "      <td>ccny</td>\n",
       "      <td>freshman</td>\n",
       "      <td>Data reduction</td>\n",
       "      <td>11</td>\n",
       "      <td>Python</td>\n",
       "    </tr>\n",
       "    <tr>\n",
       "      <td>11</td>\n",
       "      <td>Kylo Ren</td>\n",
       "      <td>ccny</td>\n",
       "      <td>junior</td>\n",
       "      <td>Unsupervised</td>\n",
       "      <td>12</td>\n",
       "      <td>JavaScript</td>\n",
       "    </tr>\n",
       "  </tbody>\n",
       "</table>\n",
       "</div>"
      ],
      "text/plain": [
       "                name college       year         ml_type  id      script\n",
       "0           Han Solo    ccny     junior      Supervised   1         C++\n",
       "1        Darth Vader    bcny     senior    Unsupervised   2           C\n",
       "2               Yoda    qcny     senior      Clustering   3           C\n",
       "3      ObiWan Kenobi   sicny     senior  Data reduction   4           C\n",
       "4     Prinncess Leia    lcny  sophomore      Supervised   5        Java\n",
       "5     Luke Skywalker    hcny  sophomore      Clustering   6        Java\n",
       "6                Rey    ycny  freshmane      Clustering   7      Python\n",
       "7         Darth Maul    lcny     senior    Unsupervised   8  JavaScript\n",
       "8   Lando Calrissian    bcny     junior  Data reduction   9         C++\n",
       "9          Chewbacca    qcny     junior      Supervised  10         C++\n",
       "10              Finn    ccny   freshman  Data reduction  11      Python\n",
       "11          Kylo Ren    ccny     junior    Unsupervised  12  JavaScript"
      ]
     },
     "execution_count": 44,
     "metadata": {},
     "output_type": "execute_result"
    }
   ],
   "source": [
    "# Data Frame answer"
   ]
  },
  {
   "cell_type": "code",
   "execution_count": null,
   "metadata": {},
   "outputs": [],
   "source": []
  },
  {
   "cell_type": "code",
   "execution_count": 45,
   "metadata": {},
   "outputs": [],
   "source": [
    "# drop the `id` column and print the data frame\n",
    "\n"
   ]
  },
  {
   "cell_type": "code",
   "execution_count": 46,
   "metadata": {},
   "outputs": [
    {
     "data": {
      "text/html": [
       "<div>\n",
       "<style scoped>\n",
       "    .dataframe tbody tr th:only-of-type {\n",
       "        vertical-align: middle;\n",
       "    }\n",
       "\n",
       "    .dataframe tbody tr th {\n",
       "        vertical-align: top;\n",
       "    }\n",
       "\n",
       "    .dataframe thead th {\n",
       "        text-align: right;\n",
       "    }\n",
       "</style>\n",
       "<table border=\"1\" class=\"dataframe\">\n",
       "  <thead>\n",
       "    <tr style=\"text-align: right;\">\n",
       "      <th></th>\n",
       "      <th>name</th>\n",
       "      <th>college</th>\n",
       "      <th>year</th>\n",
       "      <th>ml_type</th>\n",
       "      <th>script</th>\n",
       "    </tr>\n",
       "  </thead>\n",
       "  <tbody>\n",
       "    <tr>\n",
       "      <td>0</td>\n",
       "      <td>Han Solo</td>\n",
       "      <td>ccny</td>\n",
       "      <td>junior</td>\n",
       "      <td>Supervised</td>\n",
       "      <td>C++</td>\n",
       "    </tr>\n",
       "    <tr>\n",
       "      <td>1</td>\n",
       "      <td>Darth Vader</td>\n",
       "      <td>bcny</td>\n",
       "      <td>senior</td>\n",
       "      <td>Unsupervised</td>\n",
       "      <td>C</td>\n",
       "    </tr>\n",
       "    <tr>\n",
       "      <td>2</td>\n",
       "      <td>Yoda</td>\n",
       "      <td>qcny</td>\n",
       "      <td>senior</td>\n",
       "      <td>Clustering</td>\n",
       "      <td>C</td>\n",
       "    </tr>\n",
       "    <tr>\n",
       "      <td>3</td>\n",
       "      <td>ObiWan Kenobi</td>\n",
       "      <td>sicny</td>\n",
       "      <td>senior</td>\n",
       "      <td>Data reduction</td>\n",
       "      <td>C</td>\n",
       "    </tr>\n",
       "    <tr>\n",
       "      <td>4</td>\n",
       "      <td>Prinncess Leia</td>\n",
       "      <td>lcny</td>\n",
       "      <td>sophomore</td>\n",
       "      <td>Supervised</td>\n",
       "      <td>Java</td>\n",
       "    </tr>\n",
       "    <tr>\n",
       "      <td>5</td>\n",
       "      <td>Luke Skywalker</td>\n",
       "      <td>hcny</td>\n",
       "      <td>sophomore</td>\n",
       "      <td>Clustering</td>\n",
       "      <td>Java</td>\n",
       "    </tr>\n",
       "    <tr>\n",
       "      <td>6</td>\n",
       "      <td>Rey</td>\n",
       "      <td>ycny</td>\n",
       "      <td>freshmane</td>\n",
       "      <td>Clustering</td>\n",
       "      <td>Python</td>\n",
       "    </tr>\n",
       "    <tr>\n",
       "      <td>7</td>\n",
       "      <td>Darth Maul</td>\n",
       "      <td>lcny</td>\n",
       "      <td>senior</td>\n",
       "      <td>Unsupervised</td>\n",
       "      <td>JavaScript</td>\n",
       "    </tr>\n",
       "    <tr>\n",
       "      <td>8</td>\n",
       "      <td>Lando Calrissian</td>\n",
       "      <td>bcny</td>\n",
       "      <td>junior</td>\n",
       "      <td>Data reduction</td>\n",
       "      <td>C++</td>\n",
       "    </tr>\n",
       "    <tr>\n",
       "      <td>9</td>\n",
       "      <td>Chewbacca</td>\n",
       "      <td>qcny</td>\n",
       "      <td>junior</td>\n",
       "      <td>Supervised</td>\n",
       "      <td>C++</td>\n",
       "    </tr>\n",
       "    <tr>\n",
       "      <td>10</td>\n",
       "      <td>Finn</td>\n",
       "      <td>ccny</td>\n",
       "      <td>freshman</td>\n",
       "      <td>Data reduction</td>\n",
       "      <td>Python</td>\n",
       "    </tr>\n",
       "    <tr>\n",
       "      <td>11</td>\n",
       "      <td>Kylo Ren</td>\n",
       "      <td>ccny</td>\n",
       "      <td>junior</td>\n",
       "      <td>Unsupervised</td>\n",
       "      <td>JavaScript</td>\n",
       "    </tr>\n",
       "  </tbody>\n",
       "</table>\n",
       "</div>"
      ],
      "text/plain": [
       "                name college       year         ml_type      script\n",
       "0           Han Solo    ccny     junior      Supervised         C++\n",
       "1        Darth Vader    bcny     senior    Unsupervised           C\n",
       "2               Yoda    qcny     senior      Clustering           C\n",
       "3      ObiWan Kenobi   sicny     senior  Data reduction           C\n",
       "4     Prinncess Leia    lcny  sophomore      Supervised        Java\n",
       "5     Luke Skywalker    hcny  sophomore      Clustering        Java\n",
       "6                Rey    ycny  freshmane      Clustering      Python\n",
       "7         Darth Maul    lcny     senior    Unsupervised  JavaScript\n",
       "8   Lando Calrissian    bcny     junior  Data reduction         C++\n",
       "9          Chewbacca    qcny     junior      Supervised         C++\n",
       "10              Finn    ccny   freshman  Data reduction      Python\n",
       "11          Kylo Ren    ccny     junior    Unsupervised  JavaScript"
      ]
     },
     "execution_count": 46,
     "metadata": {},
     "output_type": "execute_result"
    }
   ],
   "source": [
    "# final answer"
   ]
  },
  {
   "cell_type": "code",
   "execution_count": null,
   "metadata": {},
   "outputs": [],
   "source": []
  }
 ],
 "metadata": {
  "kernelspec": {
   "display_name": "Python 3",
   "language": "python",
   "name": "python3"
  },
  "language_info": {
   "codemirror_mode": {
    "name": "ipython",
    "version": 3
   },
   "file_extension": ".py",
   "mimetype": "text/x-python",
   "name": "python",
   "nbconvert_exporter": "python",
   "pygments_lexer": "ipython3",
   "version": "3.7.4"
  }
 },
 "nbformat": 4,
 "nbformat_minor": 4
}
