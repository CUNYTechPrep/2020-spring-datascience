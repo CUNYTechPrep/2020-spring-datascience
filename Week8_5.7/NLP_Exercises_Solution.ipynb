{
 "cells": [
  {
   "cell_type": "code",
   "execution_count": 11,
   "metadata": {},
   "outputs": [],
   "source": [
    "import nltk\n",
    "import pandas as pd\n",
    "import re\n",
    "from sklearn.datasets import fetch_20newsgroups\n",
    "from sklearn.feature_extraction.text import TfidfVectorizer\n",
    "from sklearn.naive_bayes import MultinomialNB\n",
    "from sklearn import metrics\n",
    "from sklearn.model_selection import train_test_split"
   ]
  },
  {
   "cell_type": "markdown",
   "metadata": {},
   "source": [
    "## We're going to use what we learned in the lesson to try to predict the political party of politicians using their tweets."
   ]
  },
  {
   "cell_type": "code",
   "execution_count": 4,
   "metadata": {},
   "outputs": [],
   "source": [
    "tweets = pd.read_csv('ExtractedTweets.csv')"
   ]
  },
  {
   "cell_type": "code",
   "execution_count": 17,
   "metadata": {},
   "outputs": [],
   "source": [
    "# train test split\n",
    "tweets['target'] = tweets['Party'].apply(lambda x: 1 if x=='Democrat' else 0)\n",
    "train_features, test_features, train_labels, test_labels = train_test_split(tweets['Tweet'], tweets['target'], \n",
    "                                                                            test_size=0.2, random_state=678)"
   ]
  },
  {
   "cell_type": "code",
   "execution_count": 18,
   "metadata": {
    "scrolled": true
   },
   "outputs": [
    {
     "name": "stdout",
     "output_type": "stream",
     "text": [
      "(17292, 106744)\n",
      "(69168, 106744)\n",
      "86460\n"
     ]
    }
   ],
   "source": [
    "# convert the tweets to vectors with tfidf\n",
    "vectorizer = TfidfVectorizer()\n",
    "train_features = vectorizer.fit_transform(train_features)\n",
    "test_features = vectorizer.transform(test_features)\n",
    "print(test_features.shape)\n",
    "print(train_features.shape)\n",
    "print(len(tweets.index))"
   ]
  },
  {
   "cell_type": "code",
   "execution_count": 19,
   "metadata": {},
   "outputs": [
    {
     "data": {
      "text/plain": [
       "0.8016423779782559"
      ]
     },
     "execution_count": 19,
     "metadata": {},
     "output_type": "execute_result"
    }
   ],
   "source": [
    "# train model\n",
    "clf = MultinomialNB(alpha=.01)\n",
    "clf.fit(train_features, train_labels)\n",
    "\n",
    "pred = clf.predict(test_features)\n",
    "metrics.accuracy_score(test_labels, pred)"
   ]
  },
  {
   "cell_type": "markdown",
   "metadata": {},
   "source": [
    "See if you can improve on this accuracy using some of the other techniques from the lesson you can also explore some packages specifically for analyzing tweets, for example that remove handles and other things from the text.  Nltk's TweetTokenizer could be a good place to start."
   ]
  },
  {
   "cell_type": "code",
   "execution_count": null,
   "metadata": {},
   "outputs": [],
   "source": []
  }
 ],
 "metadata": {
  "kernelspec": {
   "display_name": "Python 3",
   "language": "python",
   "name": "python3"
  },
  "language_info": {
   "codemirror_mode": {
    "name": "ipython",
    "version": 3
   },
   "file_extension": ".py",
   "mimetype": "text/x-python",
   "name": "python",
   "nbconvert_exporter": "python",
   "pygments_lexer": "ipython3",
   "version": "3.7.3"
  }
 },
 "nbformat": 4,
 "nbformat_minor": 2
}
