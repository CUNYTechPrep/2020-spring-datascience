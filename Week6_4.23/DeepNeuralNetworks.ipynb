{
 "cells": [
  {
   "cell_type": "markdown",
   "metadata": {},
   "source": [
    "# Deep Neural Nertwork\n",
    "\n",
    "## What is a Neuron?\n",
    "\n",
    "In this notebook we will explore we will explore Deep Neural Networks (DNN) and its parameters using Keras library. To better understand DNN let's first go over the beginings of neural networks. In 1943 Warren McCulloch and Walter Pitts published the first concept of a neuron. Neurons are interconnected nerve cells in the brain that process chemical and electrical signals. [Source](https://learning.oreilly.com/library/view/python-machine-learning/9781787125933/ch02s02.html)"
   ]
  },
  {
   "cell_type": "code",
   "execution_count": 8,
   "metadata": {},
   "outputs": [
    {
     "data": {
      "text/html": [
       "<img src='brain_cell.png', width=500, height=500>\n"
      ],
      "text/plain": [
       "<IPython.core.display.HTML object>"
      ]
     },
     "metadata": {},
     "output_type": "display_data"
    }
   ],
   "source": [
    "%%html\n",
    "<img src='brain_cell.png', width=500, height=500>"
   ]
  },
  {
   "cell_type": "markdown",
   "metadata": {},
   "source": [
    "In 1957 Frank Rosenblatt published the `perceptron learning rule` based on the neuron concept. Such rule gave rise to **perceptron**, a binary classification algorithm that automatically learns the optimal coefficients for each input called to make a decision. In 1960, Widrow and Hoff published the **ADAtive LInear NEuron (Adaline)**, a modification of the perceptron with an activation function in between the net input function and the threshold function. In contrast to the perceptron algorithm, the cost function of adaline is differentiable. This property allows to use an optimization algorithm termed **gradient descent** to find the best weights and minimize the error."
   ]
  },
  {
   "cell_type": "code",
   "execution_count": 9,
   "metadata": {},
   "outputs": [
    {
     "data": {
      "text/html": [
       "<img src='Neuron.png', width=500, height=500>\n"
      ],
      "text/plain": [
       "<IPython.core.display.HTML object>"
      ]
     },
     "metadata": {},
     "output_type": "display_data"
    }
   ],
   "source": [
    "%%html\n",
    "<img src='Neuron.png', width=500, height=500>"
   ]
  },
  {
   "cell_type": "code",
   "execution_count": 10,
   "metadata": {},
   "outputs": [
    {
     "data": {
      "text/html": [
       "<img src='gradientDescent.png', width=500, height=500>\n"
      ],
      "text/plain": [
       "<IPython.core.display.HTML object>"
      ]
     },
     "metadata": {},
     "output_type": "display_data"
    }
   ],
   "source": [
    "%%html\n",
    "<img src='gradientDescent.png', width=500, height=500>"
   ]
  },
  {
   "cell_type": "markdown",
   "metadata": {},
   "source": [
    "## Multi-layer Neural Network\n",
    "\n",
    "In 1986 the **back propagation** algorithm was published which proved to train neural networks more efficiently. Back propagation takes the gradients with respect to each wegiht for each node in each layer and updates the weights simultanoiuslly based on the error."
   ]
  },
  {
   "cell_type": "code",
   "execution_count": 11,
   "metadata": {},
   "outputs": [
    {
     "data": {
      "text/html": [
       "<img src='Multi_NN.png', width=700, height=700>\n"
      ],
      "text/plain": [
       "<IPython.core.display.HTML object>"
      ]
     },
     "metadata": {},
     "output_type": "display_data"
    }
   ],
   "source": [
    "%%html\n",
    "<img src='Multi_NN.png', width=700, height=700>"
   ]
  },
  {
   "cell_type": "code",
   "execution_count": null,
   "metadata": {},
   "outputs": [],
   "source": []
  }
 ],
 "metadata": {
  "kernelspec": {
   "display_name": "Python 3",
   "language": "python",
   "name": "python3"
  },
  "language_info": {
   "codemirror_mode": {
    "name": "ipython",
    "version": 3
   },
   "file_extension": ".py",
   "mimetype": "text/x-python",
   "name": "python",
   "nbconvert_exporter": "python",
   "pygments_lexer": "ipython3",
   "version": "3.7.4"
  }
 },
 "nbformat": 4,
 "nbformat_minor": 4
}
